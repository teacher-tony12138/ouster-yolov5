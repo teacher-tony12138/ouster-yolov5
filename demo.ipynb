{
 "cells": [
  {
   "cell_type": "code",
   "execution_count": 1,
   "id": "4c16e257-d890-4f1a-b851-aaaa9abee961",
   "metadata": {},
   "outputs": [
    {
     "name": "stdout",
     "output_type": "stream",
     "text": [
      "Jupyter environment detected. Enabling Open3D WebVisualizer.\n",
      "[Open3D INFO] WebRTC GUI backend enabled.\n",
      "[Open3D INFO] WebRTCWindowSystem: HTTP handshake server disabled.\n"
     ]
    },
    {
     "ename": "ModuleNotFoundError",
     "evalue": "No module named 'mmdet3d'",
     "output_type": "error",
     "traceback": [
      "\u001b[1;31m---------------------------------------------------------------------------\u001b[0m",
      "\u001b[1;31mModuleNotFoundError\u001b[0m                       Traceback (most recent call last)",
      "Cell \u001b[1;32mIn[1], line 11\u001b[0m\n\u001b[0;32m      8\u001b[0m \u001b[38;5;28;01mimport\u001b[39;00m \u001b[38;5;21;01mos\u001b[39;00m\n\u001b[0;32m      9\u001b[0m \u001b[38;5;28;01mimport\u001b[39;00m \u001b[38;5;21;01mcv2\u001b[39;00m\n\u001b[1;32m---> 11\u001b[0m \u001b[38;5;28;01mfrom\u001b[39;00m \u001b[38;5;21;01mmmdet3d\u001b[39;00m\u001b[38;5;21;01m.\u001b[39;00m\u001b[38;5;21;01mapis\u001b[39;00m \u001b[38;5;28;01mimport\u001b[39;00m init_model, inference_detector, show_result_meshlab\n",
      "\u001b[1;31mModuleNotFoundError\u001b[0m: No module named 'mmdet3d'"
     ]
    }
   ],
   "source": [
    "import ouster\n",
    "from ouster import pcap\n",
    "from ouster import client\n",
    "import matplotlib.pyplot as plt\n",
    "from more_itertools import nth \n",
    "import open3d as o3d\n",
    "import numpy as np\n",
    "import os\n",
    "import cv2\n",
    "\n",
    "from mmdet3d.apis import init_model, inference_detector, show_result_meshlab"
   ]
  },
  {
   "cell_type": "code",
   "execution_count": null,
   "id": "2834b4e1-7038-407b-84e5-adabb57ea08c",
   "metadata": {},
   "outputs": [],
   "source": [
    "# start wih sample data\n",
    "pcap_path = 'dataset\\OS0-128\\OS0-128_Rev-06_fw23_Urban-Drive_Dual-Returns.pcap'\n",
    "metadata_path = 'dataset\\OS0-128\\OS0-128_Rev-06_fw23_Urban-Drive_Dual-Returns.json'\n",
    "\n",
    "with open(metadata_path, 'r') as f:\n",
    "    info = client.SensorInfo(f.read())\n",
    "source = pcap.Pcap(pcap_path, info)\n",
    "\n",
    "scans = client.Scans(source)\n",
    "scan = nth(scans, 10)"
   ]
  },
  {
   "cell_type": "code",
   "execution_count": 3,
   "id": "5e3b36b2-7e9f-4b11-a030-ff87f4adfd40",
   "metadata": {},
   "outputs": [],
   "source": [
    "def vis_point_cloud(scan):\n",
    "    if isinstance(scan, ouster.client._client.LidarScan):\n",
    "        xyz = client.XYZLut(info)(scan)\n",
    "        # create point cloud and coordinate axes geometries\n",
    "        cloud = o3d.geometry.PointCloud(\n",
    "            o3d.utility.Vector3dVector(xyz.reshape((-1, 3))))  # type: ignore\n",
    "    else:\n",
    "        cloud = scan\n",
    "    axes = o3d.geometry.TriangleMesh.create_coordinate_frame(\n",
    "        1.0)  # type: ignore\n",
    "     # initialize visualizer and rendering options\n",
    "    vis = o3d.visualization.Visualizer()  # type: ignore\n",
    "\n",
    "    vis.create_window()\n",
    "    vis.add_geometry(cloud)\n",
    "    vis.add_geometry(axes)\n",
    "    ropt = vis.get_render_option()\n",
    "    ropt.point_size = 1.0\n",
    "    ropt.background_color = np.asarray([0, 0, 0])\n",
    "\n",
    "    # initialize camera settings\n",
    "    ctr = vis.get_view_control()\n",
    "    ctr.set_zoom(0.1)\n",
    "    ctr.set_lookat([0, 0, 0])\n",
    "    ctr.set_up([1, 0, 0])\n",
    "\n",
    "    # run visualizer main loop\n",
    "    print(\"Press Q or Excape to exit\")\n",
    "    vis.run()\n",
    "    vis.destroy_window()"
   ]
  },
  {
   "cell_type": "code",
   "execution_count": 5,
   "id": "bde760ae-8fc5-45c0-91dd-7d4f97ad91fa",
   "metadata": {},
   "outputs": [],
   "source": [
    "xyz = client.XYZLut(info)(scan)\n",
    "pcd = o3d.geometry.PointCloud(o3d.utility.Vector3dVector(xyz.reshape((-1, 3))))"
   ]
  },
  {
   "cell_type": "code",
   "execution_count": 6,
   "id": "7a41f9c7-220e-4489-8e19-93dcefdc375a",
   "metadata": {},
   "outputs": [],
   "source": [
    "# Define a threshold:\n",
    "THRESHOLD = 1\n",
    "\n",
    "# Get the min value along the z-axis:\n",
    "z_min = min(pcd.points, key=lambda x: x[2])[2]\n",
    "\n",
    "select_idx = []\n",
    "\n",
    "for i, p in enumerate(pcd.points):\n",
    "    p_x = p[0]\n",
    "    p_y = p[1]\n",
    "    p_z = p[2]\n",
    "    \n",
    "    if abs(p_x) < 5 and abs(p_y) < 2 and abs(p_z) < 2:\n",
    "        select_idx.append(i)\n",
    "    \n",
    "    # if p_z - z_min < THRESHOLD:\n",
    "    #     select_idx.append(i)\n",
    "\n",
    "select_roi = pcd.select_by_index(select_idx)"
   ]
  },
  {
   "cell_type": "code",
   "execution_count": 8,
   "id": "9532a94e-9473-4082-b02a-43a2138c19a2",
   "metadata": {},
   "outputs": [
    {
     "name": "stdout",
     "output_type": "stream",
     "text": [
      "Press Q or Excape to exit\n"
     ]
    }
   ],
   "source": [
    "vis_point_cloud(select_roi)"
   ]
  },
  {
   "cell_type": "code",
   "execution_count": null,
   "id": "7bad9f7f-5183-4ced-b41c-0be38b98bc66",
   "metadata": {},
   "outputs": [],
   "source": [
    "# config_file = './configs/second/hv_second_secfpn_6x8_80e_kitti-3d-3class.py'\n",
    "# checkpoint_file = 'D:/Code/Jiuzhou/mmdetection3d/models/second/hv_second_secfpn_6x8_80e_kitti-3d-3class.pth'"
   ]
  },
  {
   "cell_type": "code",
   "execution_count": null,
   "id": "54c846f4-d3c0-4dd8-9ea8-76489d13242a",
   "metadata": {},
   "outputs": [],
   "source": [
    "# model = init_model(config_file, checkpoint_file, device='cuda:0')"
   ]
  },
  {
   "cell_type": "code",
   "execution_count": null,
   "id": "01decadb-56b0-4de9-a938-2374a6a267ba",
   "metadata": {},
   "outputs": [],
   "source": [
    "# demo_pcd = 'D:/Code/Jiuzhou/mmdetection3d/demo/data/kitti/kitti_000008.bin'\n",
    "# result, data = inference_detector(model, 'pcd_out_000001.pcd')"
   ]
  },
  {
   "cell_type": "code",
   "execution_count": null,
   "id": "1266e810-c804-45b1-bda4-32cb6f013b48",
   "metadata": {},
   "outputs": [],
   "source": [
    "# out_dir = './'\n",
    "# show_result_meshlab(data, result, out_dir, show=True)"
   ]
  },
  {
   "cell_type": "code",
   "execution_count": null,
   "id": "d462cf72-c64e-45f3-9dda-b247d77d7d24",
   "metadata": {},
   "outputs": [],
   "source": [
    "# !python -m ouster.sdk.examples.pcap {pcap_path} {metadata_path} pcap-to-pcd --scan-num 5"
   ]
  },
  {
   "cell_type": "code",
   "execution_count": null,
   "id": "299df2bb-c871-4717-95c2-5f724e997192",
   "metadata": {},
   "outputs": [],
   "source": []
  },
  {
   "cell_type": "code",
   "execution_count": null,
   "id": "c4515a1f-ff04-49a9-ac94-e05ec75bde8f",
   "metadata": {},
   "outputs": [],
   "source": []
  }
 ],
 "metadata": {
  "kernelspec": {
   "display_name": "Python 3 (ipykernel)",
   "language": "python",
   "name": "python3"
  },
  "language_info": {
   "codemirror_mode": {
    "name": "ipython",
    "version": 3
   },
   "file_extension": ".py",
   "mimetype": "text/x-python",
   "name": "python",
   "nbconvert_exporter": "python",
   "pygments_lexer": "ipython3",
   "version": "3.8.15"
  }
 },
 "nbformat": 4,
 "nbformat_minor": 5
}
